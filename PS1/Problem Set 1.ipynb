{
 "metadata": {
  "name": "",
  "signature": "sha256:188b1c519378defe1b8a94917439feffef19859695d790606d4e00d864a61a45"
 },
 "nbformat": 3,
 "nbformat_minor": 0,
 "worksheets": [
  {
   "cells": [
    {
     "cell_type": "markdown",
     "metadata": {},
     "source": [
      "# Problem Set 1\n",
      "Rasmi Elasmar  \n",
      "ASTRW4260  \n",
      "February 3, 2015  "
     ]
    },
    {
     "cell_type": "code",
     "collapsed": false,
     "input": [
      "%matplotlib inline\n",
      "import numpy as np\n",
      "import pandas as pd"
     ],
     "language": "python",
     "metadata": {},
     "outputs": [],
     "prompt_number": 1
    },
    {
     "cell_type": "markdown",
     "metadata": {},
     "source": [
      "## Problem 2"
     ]
    },
    {
     "cell_type": "code",
     "collapsed": false,
     "input": [
      "np.arange(1, 10.1, 0.5)"
     ],
     "language": "python",
     "metadata": {},
     "outputs": [
      {
       "metadata": {},
       "output_type": "pyout",
       "prompt_number": 2,
       "text": [
        "array([  1. ,   1.5,   2. ,   2.5,   3. ,   3.5,   4. ,   4.5,   5. ,\n",
        "         5.5,   6. ,   6.5,   7. ,   7.5,   8. ,   8.5,   9. ,   9.5,  10. ])"
       ]
      }
     ],
     "prompt_number": 2
    },
    {
     "cell_type": "code",
     "collapsed": false,
     "input": [
      "np.log(np.arange(1, 10.1, 0.5))"
     ],
     "language": "python",
     "metadata": {},
     "outputs": [
      {
       "metadata": {},
       "output_type": "pyout",
       "prompt_number": 3,
       "text": [
        "array([ 0.        ,  0.40546511,  0.69314718,  0.91629073,  1.09861229,\n",
        "        1.25276297,  1.38629436,  1.5040774 ,  1.60943791,  1.70474809,\n",
        "        1.79175947,  1.87180218,  1.94591015,  2.01490302,  2.07944154,\n",
        "        2.14006616,  2.19722458,  2.2512918 ,  2.30258509])"
       ]
      }
     ],
     "prompt_number": 3
    },
    {
     "cell_type": "markdown",
     "metadata": {},
     "source": [
      "## Problem 3"
     ]
    },
    {
     "cell_type": "code",
     "collapsed": false,
     "input": [
      "def attenuation(p, z):\n",
      "    z = abs(z)\n",
      "    if 1+p < z:\n",
      "        # Planet is outside of transit -- nothing is obscured.\n",
      "        return 0\n",
      "    elif abs(1-p) < z and z <= 1+p:\n",
      "        # Planet is entering stellar radius, consider the partial overlap.\n",
      "        # See Mandel & Agol, 2002.\n",
      "        k_0 = np.arccos((p**2 + z**2 - 1)/(2*p*z))\n",
      "        k_1 = np.arccos((1 - p**2 + z**2)/(2*z))\n",
      "        return ((p**2)*k_0 + k_1 - np.sqrt(abs((4*(z**2) - (1 + z**2 - p**2)**2)/4)))/np.pi\n",
      "    elif z <= 1-p:\n",
      "        # Planet is completely inside stellar radius, just consider relative areas.\n",
      "        return p**2\n",
      "    elif z <= p-1:\n",
      "        # Planet completely obscures star.\n",
      "        return 1"
     ],
     "language": "python",
     "metadata": {},
     "outputs": [],
     "prompt_number": 4
    },
    {
     "cell_type": "code",
     "collapsed": false,
     "input": [
      "transit = pd.DataFrame({'z': np.arange(-1.2, 1.3, 0.1)})"
     ],
     "language": "python",
     "metadata": {},
     "outputs": [],
     "prompt_number": 5
    },
    {
     "cell_type": "code",
     "collapsed": false,
     "input": [
      "transit['attenuation'] = transit['z'].apply(lambda z: attenuation(0.1, z))"
     ],
     "language": "python",
     "metadata": {},
     "outputs": [],
     "prompt_number": 6
    },
    {
     "cell_type": "code",
     "collapsed": false,
     "input": [
      "transit['flux'] = 1 - transit['attenuation']"
     ],
     "language": "python",
     "metadata": {},
     "outputs": [],
     "prompt_number": 7
    },
    {
     "cell_type": "code",
     "collapsed": false,
     "input": [
      "transit"
     ],
     "language": "python",
     "metadata": {},
     "outputs": [
      {
       "html": [
        "<div style=\"max-height:1000px;max-width:1500px;overflow:auto;\">\n",
        "<table border=\"1\" class=\"dataframe\">\n",
        "  <thead>\n",
        "    <tr style=\"text-align: right;\">\n",
        "      <th></th>\n",
        "      <th>z</th>\n",
        "      <th>attenuation</th>\n",
        "      <th>flux</th>\n",
        "    </tr>\n",
        "  </thead>\n",
        "  <tbody>\n",
        "    <tr>\n",
        "      <th>0 </th>\n",
        "      <td>-1.200000e+00</td>\n",
        "      <td> 0.000000e+00</td>\n",
        "      <td> 1.000000</td>\n",
        "    </tr>\n",
        "    <tr>\n",
        "      <th>1 </th>\n",
        "      <td>-1.100000e+00</td>\n",
        "      <td>-6.565584e-09</td>\n",
        "      <td> 1.000000</td>\n",
        "    </tr>\n",
        "    <tr>\n",
        "      <th>2 </th>\n",
        "      <td>-1.000000e+00</td>\n",
        "      <td> 4.893870e-03</td>\n",
        "      <td> 0.995106</td>\n",
        "    </tr>\n",
        "    <tr>\n",
        "      <th>3 </th>\n",
        "      <td>-9.000000e-01</td>\n",
        "      <td> 1.000000e-02</td>\n",
        "      <td> 0.990000</td>\n",
        "    </tr>\n",
        "    <tr>\n",
        "      <th>4 </th>\n",
        "      <td>-8.000000e-01</td>\n",
        "      <td> 1.000000e-02</td>\n",
        "      <td> 0.990000</td>\n",
        "    </tr>\n",
        "    <tr>\n",
        "      <th>5 </th>\n",
        "      <td>-7.000000e-01</td>\n",
        "      <td> 1.000000e-02</td>\n",
        "      <td> 0.990000</td>\n",
        "    </tr>\n",
        "    <tr>\n",
        "      <th>6 </th>\n",
        "      <td>-6.000000e-01</td>\n",
        "      <td> 1.000000e-02</td>\n",
        "      <td> 0.990000</td>\n",
        "    </tr>\n",
        "    <tr>\n",
        "      <th>7 </th>\n",
        "      <td>-5.000000e-01</td>\n",
        "      <td> 1.000000e-02</td>\n",
        "      <td> 0.990000</td>\n",
        "    </tr>\n",
        "    <tr>\n",
        "      <th>8 </th>\n",
        "      <td>-4.000000e-01</td>\n",
        "      <td> 1.000000e-02</td>\n",
        "      <td> 0.990000</td>\n",
        "    </tr>\n",
        "    <tr>\n",
        "      <th>9 </th>\n",
        "      <td>-3.000000e-01</td>\n",
        "      <td> 1.000000e-02</td>\n",
        "      <td> 0.990000</td>\n",
        "    </tr>\n",
        "    <tr>\n",
        "      <th>10</th>\n",
        "      <td>-2.000000e-01</td>\n",
        "      <td> 1.000000e-02</td>\n",
        "      <td> 0.990000</td>\n",
        "    </tr>\n",
        "    <tr>\n",
        "      <th>11</th>\n",
        "      <td>-1.000000e-01</td>\n",
        "      <td> 1.000000e-02</td>\n",
        "      <td> 0.990000</td>\n",
        "    </tr>\n",
        "    <tr>\n",
        "      <th>12</th>\n",
        "      <td> 1.110223e-15</td>\n",
        "      <td> 1.000000e-02</td>\n",
        "      <td> 0.990000</td>\n",
        "    </tr>\n",
        "    <tr>\n",
        "      <th>13</th>\n",
        "      <td> 1.000000e-01</td>\n",
        "      <td> 1.000000e-02</td>\n",
        "      <td> 0.990000</td>\n",
        "    </tr>\n",
        "    <tr>\n",
        "      <th>14</th>\n",
        "      <td> 2.000000e-01</td>\n",
        "      <td> 1.000000e-02</td>\n",
        "      <td> 0.990000</td>\n",
        "    </tr>\n",
        "    <tr>\n",
        "      <th>15</th>\n",
        "      <td> 3.000000e-01</td>\n",
        "      <td> 1.000000e-02</td>\n",
        "      <td> 0.990000</td>\n",
        "    </tr>\n",
        "    <tr>\n",
        "      <th>16</th>\n",
        "      <td> 4.000000e-01</td>\n",
        "      <td> 1.000000e-02</td>\n",
        "      <td> 0.990000</td>\n",
        "    </tr>\n",
        "    <tr>\n",
        "      <th>17</th>\n",
        "      <td> 5.000000e-01</td>\n",
        "      <td> 1.000000e-02</td>\n",
        "      <td> 0.990000</td>\n",
        "    </tr>\n",
        "    <tr>\n",
        "      <th>18</th>\n",
        "      <td> 6.000000e-01</td>\n",
        "      <td> 1.000000e-02</td>\n",
        "      <td> 0.990000</td>\n",
        "    </tr>\n",
        "    <tr>\n",
        "      <th>19</th>\n",
        "      <td> 7.000000e-01</td>\n",
        "      <td> 1.000000e-02</td>\n",
        "      <td> 0.990000</td>\n",
        "    </tr>\n",
        "    <tr>\n",
        "      <th>20</th>\n",
        "      <td> 8.000000e-01</td>\n",
        "      <td> 1.000000e-02</td>\n",
        "      <td> 0.990000</td>\n",
        "    </tr>\n",
        "    <tr>\n",
        "      <th>21</th>\n",
        "      <td> 9.000000e-01</td>\n",
        "      <td> 1.000000e-02</td>\n",
        "      <td> 0.990000</td>\n",
        "    </tr>\n",
        "    <tr>\n",
        "      <th>22</th>\n",
        "      <td> 1.000000e+00</td>\n",
        "      <td> 4.893870e-03</td>\n",
        "      <td> 0.995106</td>\n",
        "    </tr>\n",
        "    <tr>\n",
        "      <th>23</th>\n",
        "      <td> 1.100000e+00</td>\n",
        "      <td> 0.000000e+00</td>\n",
        "      <td> 1.000000</td>\n",
        "    </tr>\n",
        "    <tr>\n",
        "      <th>24</th>\n",
        "      <td> 1.200000e+00</td>\n",
        "      <td> 0.000000e+00</td>\n",
        "      <td> 1.000000</td>\n",
        "    </tr>\n",
        "  </tbody>\n",
        "</table>\n",
        "</div>"
       ],
       "metadata": {},
       "output_type": "pyout",
       "prompt_number": 8,
       "text": [
        "               z   attenuation      flux\n",
        "0  -1.200000e+00  0.000000e+00  1.000000\n",
        "1  -1.100000e+00 -6.565584e-09  1.000000\n",
        "2  -1.000000e+00  4.893870e-03  0.995106\n",
        "3  -9.000000e-01  1.000000e-02  0.990000\n",
        "4  -8.000000e-01  1.000000e-02  0.990000\n",
        "5  -7.000000e-01  1.000000e-02  0.990000\n",
        "6  -6.000000e-01  1.000000e-02  0.990000\n",
        "7  -5.000000e-01  1.000000e-02  0.990000\n",
        "8  -4.000000e-01  1.000000e-02  0.990000\n",
        "9  -3.000000e-01  1.000000e-02  0.990000\n",
        "10 -2.000000e-01  1.000000e-02  0.990000\n",
        "11 -1.000000e-01  1.000000e-02  0.990000\n",
        "12  1.110223e-15  1.000000e-02  0.990000\n",
        "13  1.000000e-01  1.000000e-02  0.990000\n",
        "14  2.000000e-01  1.000000e-02  0.990000\n",
        "15  3.000000e-01  1.000000e-02  0.990000\n",
        "16  4.000000e-01  1.000000e-02  0.990000\n",
        "17  5.000000e-01  1.000000e-02  0.990000\n",
        "18  6.000000e-01  1.000000e-02  0.990000\n",
        "19  7.000000e-01  1.000000e-02  0.990000\n",
        "20  8.000000e-01  1.000000e-02  0.990000\n",
        "21  9.000000e-01  1.000000e-02  0.990000\n",
        "22  1.000000e+00  4.893870e-03  0.995106\n",
        "23  1.100000e+00  0.000000e+00  1.000000\n",
        "24  1.200000e+00  0.000000e+00  1.000000"
       ]
      }
     ],
     "prompt_number": 8
    },
    {
     "cell_type": "code",
     "collapsed": false,
     "input": [
      "attenuation_ratio = transit.plot(x='z', y='attenuation', legend=False, title=\"Attenuation\")\n",
      "attenuation_ratio.set_ylabel('Attenuation ratio')"
     ],
     "language": "python",
     "metadata": {},
     "outputs": [
      {
       "metadata": {},
       "output_type": "pyout",
       "prompt_number": 9,
       "text": [
        "<matplotlib.text.Text at 0x107cef3d0>"
       ]
      },
      {
       "metadata": {},
       "output_type": "display_data",
       "png": "[encoded data removed]",
       "text": [
        "<matplotlib.figure.Figure at 0x104767710>"
       ]
      }
     ],
     "prompt_number": 9
    },
    {
     "cell_type": "code",
     "collapsed": false,
     "input": [
      "flux_ratio = transit.plot(x='z', y='flux', legend=False, title='Obscured Flux Ratio')\n",
      "flux_ratio.set_ylabel('obscured/unobscured')"
     ],
     "language": "python",
     "metadata": {},
     "outputs": [
      {
       "metadata": {},
       "output_type": "pyout",
       "prompt_number": 10,
       "text": [
        "<matplotlib.text.Text at 0x107d41990>"
       ]
      },
      {
       "metadata": {},
       "output_type": "display_data",
       "png": "[encoded data removed]",
       "text": [
        "<matplotlib.figure.Figure at 0x107cf5b90>"
       ]
      }
     ],
     "prompt_number": 10
    }
   ],
   "metadata": {}
  }
 ]
}