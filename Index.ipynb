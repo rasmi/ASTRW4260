{
 "cells": [
  {
   "cell_type": "markdown",
   "metadata": {},
   "source": [
    "# ASTRW4260: Modeling the Universe\n",
    "## Instructor: Greg Bryan\n",
    "### Spring 2015"
   ]
  },
  {
   "cell_type": "markdown",
   "metadata": {},
   "source": [
    "- [Problem Set 1: Exoplanet Transit](PS1/Problem Set 1.ipynb)\n",
    "- [Problem Set 2: Integration Methods with Exoplanets](PS2/Problem Set 2.ipynb)\n",
    "- [Problem Set 3: Fitting Kepler Data and Root Finding](PS3/Problem Set 3.ipynb)\n",
    "- [Problem Set 4: Modeling Exoplanets with a Runge-Kutta ODE Solver](PS4/Problem Set 4.ipynb)\n",
    "- [Problem Set 5: FITS Image Analysis](PS5/Problem Set 5.ipynb)\n",
    "- [Problem Set 6: N-body Solar System Simulation](PS6/Problem Set 6.ipynb)\n",
    "- [Problem Set 7: Modeling the Light Curve of KOI 97.01](PS7/Problem Set 7.ipynb)"
   ]
  }
 ],
 "metadata": {
  "kernelspec": {
   "display_name": "Python 2",
   "language": "python",
   "name": "python2"
  },
  "language_info": {
   "codemirror_mode": {
    "name": "ipython",
    "version": 2
   },
   "file_extension": ".py",
   "mimetype": "text/x-python",
   "name": "python",
   "nbconvert_exporter": "python",
   "pygments_lexer": "ipython2",
   "version": "2.7.10"
  }
 },
 "nbformat": 4,
 "nbformat_minor": 0
}
