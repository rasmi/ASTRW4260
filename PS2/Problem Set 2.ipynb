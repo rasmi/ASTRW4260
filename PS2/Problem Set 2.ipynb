{
 "metadata": {
  "name": "",
  "signature": "sha256:34b466b6d15404229e9cd16a6598db19a4a8485d45c92a277c1977ae6d5db083"
 },
 "nbformat": 3,
 "nbformat_minor": 0,
 "worksheets": [
  {
   "cells": [
    {
     "cell_type": "markdown",
     "metadata": {},
     "source": [
      "# Problem Set 2\n",
      "Rasmi Elasmar  \n",
      "ASTRW4260  \n",
      "February 10, 2015  "
     ]
    },
    {
     "cell_type": "code",
     "collapsed": false,
     "input": [
      "%matplotlib inline\n",
      "import numpy as np\n",
      "import pandas as pd"
     ],
     "language": "python",
     "metadata": {},
     "outputs": [],
     "prompt_number": 1
    },
    {
     "cell_type": "code",
     "collapsed": false,
     "input": [
      "# Analytic solution from Problem Set 1\n",
      "def attenuation(p, z):\n",
      "    z = abs(z)\n",
      "    if 1+p < z:\n",
      "        # Planet is outside of transit -- nothing is obscured.\n",
      "        return 0\n",
      "    elif abs(1-p) < z and z <= 1+p:\n",
      "        # Planet is entering stellar radius, consider the partial overlap.\n",
      "        # See Mandel & Agol, 2002.\n",
      "        k_0 = np.arccos((p**2 + z**2 - 1)/(2*p*z))\n",
      "        k_1 = np.arccos((1 - p**2 + z**2)/(2*z))\n",
      "        return ((p**2)*k_0 + k_1 - np.sqrt(abs((4*(z**2) - (1 + z**2 - p**2)**2)/4)))/np.pi\n",
      "    elif z <= 1-p:\n",
      "        # Planet is completely inside stellar radius, just consider relative areas.\n",
      "        return p**2\n",
      "    elif z <= p-1:\n",
      "        # Planet completely obscures star.\n",
      "        return 1"
     ],
     "language": "python",
     "metadata": {},
     "outputs": [],
     "prompt_number": 2
    },
    {
     "cell_type": "code",
     "collapsed": false,
     "input": [
      "analytic_solution = 1 - attenuation(p=0.2, z=0.9)\n",
      "analytic_solution"
     ],
     "language": "python",
     "metadata": {},
     "outputs": [
      {
       "metadata": {},
       "output_type": "pyout",
       "prompt_number": 3,
       "text": [
        "0.96841700491145477"
       ]
      }
     ],
     "prompt_number": 3
    },
    {
     "cell_type": "code",
     "collapsed": false,
     "input": [
      "def delta(r, p, z):\n",
      "    z = abs(z)\n",
      "    if (r >= z+p) or (r <= z-p):\n",
      "        return 0\n",
      "    elif r+z <= p:\n",
      "        return 1\n",
      "    else:\n",
      "        return (1/np.pi)*(np.arccos((z**2 - p**2 + r**2)/(2*z*r)))"
     ],
     "language": "python",
     "metadata": {},
     "outputs": [],
     "prompt_number": 4
    },
    {
     "cell_type": "code",
     "collapsed": false,
     "input": [
      "def I(r):\n",
      "    return 1"
     ],
     "language": "python",
     "metadata": {},
     "outputs": [],
     "prompt_number": 5
    },
    {
     "cell_type": "markdown",
     "metadata": {},
     "source": [
      "## Problem 1: Rectangle Method"
     ]
    },
    {
     "cell_type": "code",
     "collapsed": false,
     "input": [
      "def integrate_rectangle(N, start=0, stop=1, p=0.2, z=0.9):\n",
      "    dr = (stop - start)/(N*1.0)\n",
      "    integration = pd.DataFrame({'r': np.arange(start, stop, dr)})\n",
      "    integration['top'] = integration['r'].apply(lambda r: I(r)*(1 - delta(r, p, z))*2*r*dr)\n",
      "    integration['bottom'] = integration['r'].apply(lambda r: I(r)*2*r*dr)\n",
      "    return integration['top'].sum()/integration['bottom'].sum()"
     ],
     "language": "python",
     "metadata": {},
     "outputs": [],
     "prompt_number": 6
    },
    {
     "cell_type": "code",
     "collapsed": false,
     "input": [
      "rectangle = pd.DataFrame({'N': 10**np.arange(1,6)})\n",
      "rectangle['flux'] = rectangle['N'].apply(integrate_rectangle)\n",
      "rectangle['error'] = abs(rectangle['flux'] - analytic_solution)/rectangle['flux']\n",
      "rectangle"
     ],
     "language": "python",
     "metadata": {},
     "outputs": [
      {
       "html": [
        "<div style=\"max-height:1000px;max-width:1500px;overflow:auto;\">\n",
        "<table border=\"1\" class=\"dataframe\">\n",
        "  <thead>\n",
        "    <tr style=\"text-align: right;\">\n",
        "      <th></th>\n",
        "      <th>N</th>\n",
        "      <th>flux</th>\n",
        "      <th>error</th>\n",
        "    </tr>\n",
        "  </thead>\n",
        "  <tbody>\n",
        "    <tr>\n",
        "      <th>0</th>\n",
        "      <td>     10</td>\n",
        "      <td> 0.974252</td>\n",
        "      <td> 0.005990</td>\n",
        "    </tr>\n",
        "    <tr>\n",
        "      <th>1</th>\n",
        "      <td>    100</td>\n",
        "      <td> 0.968763</td>\n",
        "      <td> 0.000357</td>\n",
        "    </tr>\n",
        "    <tr>\n",
        "      <th>2</th>\n",
        "      <td>   1000</td>\n",
        "      <td> 0.968446</td>\n",
        "      <td> 0.000030</td>\n",
        "    </tr>\n",
        "    <tr>\n",
        "      <th>3</th>\n",
        "      <td>  10000</td>\n",
        "      <td> 0.968420</td>\n",
        "      <td> 0.000003</td>\n",
        "    </tr>\n",
        "    <tr>\n",
        "      <th>4</th>\n",
        "      <td> 100000</td>\n",
        "      <td> 0.968417</td>\n",
        "      <td> 0.000000</td>\n",
        "    </tr>\n",
        "  </tbody>\n",
        "</table>\n",
        "</div>"
       ],
       "metadata": {},
       "output_type": "pyout",
       "prompt_number": 7,
       "text": [
        "        N      flux     error\n",
        "0      10  0.974252  0.005990\n",
        "1     100  0.968763  0.000357\n",
        "2    1000  0.968446  0.000030\n",
        "3   10000  0.968420  0.000003\n",
        "4  100000  0.968417  0.000000"
       ]
      }
     ],
     "prompt_number": 7
    },
    {
     "cell_type": "code",
     "collapsed": false,
     "input": [
      "rectangleplot = rectangle.plot(x='N', y='error', loglog=True, legend=False, title='Rectangle Method Error')\n",
      "rectangleplot.set_ylabel('Error')"
     ],
     "language": "python",
     "metadata": {},
     "outputs": [
      {
       "metadata": {},
       "output_type": "pyout",
       "prompt_number": 8,
       "text": [
        "<matplotlib.text.Text at 0x10b1e1650>"
       ]
      },
      {
       "metadata": {},
       "output_type": "display_data",
       "png": "[encoded data removed]",
       "text": [
        "<matplotlib.figure.Figure at 0x10b1d5550>"
       ]
      }
     ],
     "prompt_number": 8
    },
    {
     "cell_type": "markdown",
     "metadata": {},
     "source": [
      "The degree of error decreases with the degree of $N$."
     ]
    },
    {
     "cell_type": "markdown",
     "metadata": {},
     "source": [
      "## Problem 2: Simpson's Rule"
     ]
    },
    {
     "cell_type": "code",
     "collapsed": false,
     "input": [
      "def integrate_simpson(N, start=0, stop=1, p=0.2, z=0.9):\n",
      "    dr = (stop - start)/(N*1.0)\n",
      "    weight = np.ones(N)\n",
      "    weight *= 1/3.0\n",
      "    weight[2:N-1:2]*=2 # Middle even weights are 2/3.\n",
      "    weight[1:N-1:2]*=4 # Middle odd weights are 4/3.\n",
      "    integration = pd.DataFrame({'r': np.arange(start, stop, dr), 'weight': weight})\n",
      "    integration['top'] = integration['weight']*integration['r'].apply(lambda r: I(r)*(1 - delta(r, p, z))*2*r*dr)\n",
      "    integration['bottom'] = integration['weight']*integration['r'].apply(lambda r: I(r)*2*r*dr)\n",
      "    return integration['top'].sum()/integration['bottom'].sum()"
     ],
     "language": "python",
     "metadata": {},
     "outputs": [],
     "prompt_number": 9
    },
    {
     "cell_type": "code",
     "collapsed": false,
     "input": [
      "simpson = pd.DataFrame({'N': 10**np.arange(1,6)})\n",
      "simpson['flux'] = simpson['N'].apply(integrate_simpson)\n",
      "simpson['error'] = abs(simpson['flux'] - analytic_solution)/simpson['flux']\n",
      "simpson"
     ],
     "language": "python",
     "metadata": {},
     "outputs": [
      {
       "html": [
        "<div style=\"max-height:1000px;max-width:1500px;overflow:auto;\">\n",
        "<table border=\"1\" class=\"dataframe\">\n",
        "  <thead>\n",
        "    <tr style=\"text-align: right;\">\n",
        "      <th></th>\n",
        "      <th>N</th>\n",
        "      <th>flux</th>\n",
        "      <th>error</th>\n",
        "    </tr>\n",
        "  </thead>\n",
        "  <tbody>\n",
        "    <tr>\n",
        "      <th>0</th>\n",
        "      <td>     10</td>\n",
        "      <td> 0.985139</td>\n",
        "      <td> 0.016974</td>\n",
        "    </tr>\n",
        "    <tr>\n",
        "      <th>1</th>\n",
        "      <td>    100</td>\n",
        "      <td> 0.969213</td>\n",
        "      <td> 0.000822</td>\n",
        "    </tr>\n",
        "    <tr>\n",
        "      <th>2</th>\n",
        "      <td>   1000</td>\n",
        "      <td> 0.968489</td>\n",
        "      <td> 0.000075</td>\n",
        "    </tr>\n",
        "    <tr>\n",
        "      <th>3</th>\n",
        "      <td>  10000</td>\n",
        "      <td> 0.968424</td>\n",
        "      <td> 0.000007</td>\n",
        "    </tr>\n",
        "    <tr>\n",
        "      <th>4</th>\n",
        "      <td> 100000</td>\n",
        "      <td> 0.968418</td>\n",
        "      <td> 0.000001</td>\n",
        "    </tr>\n",
        "  </tbody>\n",
        "</table>\n",
        "</div>"
       ],
       "metadata": {},
       "output_type": "pyout",
       "prompt_number": 10,
       "text": [
        "        N      flux     error\n",
        "0      10  0.985139  0.016974\n",
        "1     100  0.969213  0.000822\n",
        "2    1000  0.968489  0.000075\n",
        "3   10000  0.968424  0.000007\n",
        "4  100000  0.968418  0.000001"
       ]
      }
     ],
     "prompt_number": 10
    },
    {
     "cell_type": "code",
     "collapsed": false,
     "input": [
      "simpsonplot = simpson.plot(x='N', y='error', loglog=True, legend=False, title=\"Simpson's Rule Error\")\n",
      "simpsonplot.set_ylabel('Error')"
     ],
     "language": "python",
     "metadata": {},
     "outputs": [
      {
       "metadata": {},
       "output_type": "pyout",
       "prompt_number": 11,
       "text": [
        "<matplotlib.text.Text at 0x10b7bd110>"
       ]
      },
      {
       "metadata": {},
       "output_type": "display_data",
       "png": "[encoded data removed]",
       "text": [
        "<matplotlib.figure.Figure at 0x10b7d3cd0>"
       ]
      }
     ],
     "prompt_number": 11
    },
    {
     "cell_type": "markdown",
     "metadata": {},
     "source": [
      "Again, the degree of error decreases approximately with the degree of $N$. We would expect an error that decreases $\\propto N^{-4}$, but our function is not smooth."
     ]
    },
    {
     "cell_type": "markdown",
     "metadata": {},
     "source": [
      "## Problem 3: Monte Carlo Method"
     ]
    },
    {
     "cell_type": "code",
     "collapsed": false,
     "input": [
      "def integrate_montecarlo(N, start=0, stop=1, p=0.2, z=0.9):\n",
      "    x = np.random.uniform(-1.0, 1.0, N)\n",
      "    y = np.random.uniform(-1.0, 1.0, N)\n",
      "    n1 = len(np.where(x**2 + y**2 <= 1)[0])\n",
      "    n2 = len(np.where((x-z)**2 + y**2 < p**2)[0])\n",
      "    return (n1-n2)/(n1*1.0)"
     ],
     "language": "python",
     "metadata": {},
     "outputs": [],
     "prompt_number": 12
    },
    {
     "cell_type": "code",
     "collapsed": false,
     "input": [
      "montecarlo = pd.DataFrame({'N': 10**np.arange(1,9)})\n",
      "montecarlo['flux'] = montecarlo['N'].apply(integrate_montecarlo)\n",
      "montecarlo['error'] = abs(montecarlo['flux'] - analytic_solution)/montecarlo['flux']\n",
      "montecarlo"
     ],
     "language": "python",
     "metadata": {},
     "outputs": [
      {
       "html": [
        "<div style=\"max-height:1000px;max-width:1500px;overflow:auto;\">\n",
        "<table border=\"1\" class=\"dataframe\">\n",
        "  <thead>\n",
        "    <tr style=\"text-align: right;\">\n",
        "      <th></th>\n",
        "      <th>N</th>\n",
        "      <th>flux</th>\n",
        "      <th>error</th>\n",
        "    </tr>\n",
        "  </thead>\n",
        "  <tbody>\n",
        "    <tr>\n",
        "      <th>0</th>\n",
        "      <td>        10</td>\n",
        "      <td> 0.875000</td>\n",
        "      <td> 0.106762</td>\n",
        "    </tr>\n",
        "    <tr>\n",
        "      <th>1</th>\n",
        "      <td>       100</td>\n",
        "      <td> 0.975610</td>\n",
        "      <td> 0.007373</td>\n",
        "    </tr>\n",
        "    <tr>\n",
        "      <th>2</th>\n",
        "      <td>      1000</td>\n",
        "      <td> 0.967148</td>\n",
        "      <td> 0.001312</td>\n",
        "    </tr>\n",
        "    <tr>\n",
        "      <th>3</th>\n",
        "      <td>     10000</td>\n",
        "      <td> 0.965957</td>\n",
        "      <td> 0.002547</td>\n",
        "    </tr>\n",
        "    <tr>\n",
        "      <th>4</th>\n",
        "      <td>    100000</td>\n",
        "      <td> 0.968102</td>\n",
        "      <td> 0.000325</td>\n",
        "    </tr>\n",
        "    <tr>\n",
        "      <th>5</th>\n",
        "      <td>   1000000</td>\n",
        "      <td> 0.967817</td>\n",
        "      <td> 0.000620</td>\n",
        "    </tr>\n",
        "    <tr>\n",
        "      <th>6</th>\n",
        "      <td>  10000000</td>\n",
        "      <td> 0.967951</td>\n",
        "      <td> 0.000482</td>\n",
        "    </tr>\n",
        "    <tr>\n",
        "      <th>7</th>\n",
        "      <td> 100000000</td>\n",
        "      <td> 0.967793</td>\n",
        "      <td> 0.000645</td>\n",
        "    </tr>\n",
        "  </tbody>\n",
        "</table>\n",
        "</div>"
       ],
       "metadata": {},
       "output_type": "pyout",
       "prompt_number": 13,
       "text": [
        "           N      flux     error\n",
        "0         10  0.875000  0.106762\n",
        "1        100  0.975610  0.007373\n",
        "2       1000  0.967148  0.001312\n",
        "3      10000  0.965957  0.002547\n",
        "4     100000  0.968102  0.000325\n",
        "5    1000000  0.967817  0.000620\n",
        "6   10000000  0.967951  0.000482\n",
        "7  100000000  0.967793  0.000645"
       ]
      }
     ],
     "prompt_number": 13
    },
    {
     "cell_type": "code",
     "collapsed": false,
     "input": [
      "montecarloplot = montecarlo.plot(x='N', y='error', loglog=True, legend=False, title='Monte Carlo Method Error')\n",
      "montecarloplot.set_ylabel('Error')"
     ],
     "language": "python",
     "metadata": {},
     "outputs": [
      {
       "metadata": {},
       "output_type": "pyout",
       "prompt_number": 14,
       "text": [
        "<matplotlib.text.Text at 0x10bb4e610>"
       ]
      },
      {
       "metadata": {},
       "output_type": "display_data",
       "png": "[encoded data removed]",
       "text": [
        "<matplotlib.figure.Figure at 0x10bb9b650>"
       ]
      }
     ],
     "prompt_number": 14
    },
    {
     "cell_type": "markdown",
     "metadata": {},
     "source": [
      "Running this method different times yields slightly different (random) errors, the smallest of which are all of approximately the same magnitude of $10^{-3}$. Increasing $N$ does not seem to result in any noticeable increase in accuracy after $N=10^3$."
     ]
    }
   ],
   "metadata": {}
  }
 ]
}