{
 "metadata": {
  "name": "",
  "signature": "sha256:f41e67ddc7ad5e6f2e4a4cf329f18e792817162b3f81ee18123668d0359e89e7"
 },
 "nbformat": 3,
 "nbformat_minor": 0,
 "worksheets": [
  {
   "cells": [
    {
     "cell_type": "markdown",
     "metadata": {},
     "source": [
      "# Problem Set 3\n",
      "Rasmi Elasmar  \n",
      "ASTRW4260  \n",
      "February 20, 2015"
     ]
    },
    {
     "cell_type": "code",
     "collapsed": false,
     "input": [
      "%matplotlib inline\n",
      "import numpy as np\n",
      "import pandas as pd"
     ],
     "language": "python",
     "metadata": {},
     "outputs": [],
     "prompt_number": 1
    },
    {
     "cell_type": "markdown",
     "metadata": {},
     "source": [
      "## Problem 1"
     ]
    },
    {
     "cell_type": "code",
     "collapsed": false,
     "input": [
      "lightcurve = pd.read_csv('KOI97.01_1.out', sep='\\s*', names=['time', 'flux', 'flux_err'])"
     ],
     "language": "python",
     "metadata": {},
     "outputs": [],
     "prompt_number": 2
    },
    {
     "cell_type": "code",
     "collapsed": false,
     "input": [
      "lightcurveplot = lightcurve.plot(x='time', y='flux', legend=False, title=\"KOI 97 Flux\")\n",
      "# Error bars are too messy for dense plots.\n",
      "#lightcurveplot = lightcurve.plot(x='time', y='flux', legend=False, title=\"KOI 97 Flux\", yerr='flux_err')\n",
      "lightcurveplot.set_xlabel('Time (BKJD)')\n",
      "lightcurveplot.set_ylabel('Flux (electrons/s)')"
     ],
     "language": "python",
     "metadata": {},
     "outputs": [
      {
       "metadata": {},
       "output_type": "pyout",
       "prompt_number": 3,
       "text": [
        "<matplotlib.text.Text at 0x10fcc1510>"
       ]
      },
      {
       "metadata": {},
       "output_type": "display_data",
       "png": "[encoded data removed]",
       "text": [
        "<matplotlib.figure.Figure at 0x10fcb7a10>"
       ]
      }
     ],
     "prompt_number": 3
    },
    {
     "cell_type": "markdown",
     "metadata": {},
     "source": [
      "## Problem 2"
     ]
    },
    {
     "cell_type": "code",
     "collapsed": false,
     "input": [
      "eclipse = lightcurve[(lightcurve['time'] > 124.25) & (lightcurve['time'] < 124.75)]\n",
      "eclipse"
     ],
     "language": "python",
     "metadata": {},
     "outputs": [
      {
       "html": [
        "<div style=\"max-height:1000px;max-width:1500px;overflow:auto;\">\n",
        "<table border=\"1\" class=\"dataframe\">\n",
        "  <thead>\n",
        "    <tr style=\"text-align: right;\">\n",
        "      <th></th>\n",
        "      <th>time</th>\n",
        "      <th>flux</th>\n",
        "      <th>flux_err</th>\n",
        "    </tr>\n",
        "  </thead>\n",
        "  <tbody>\n",
        "    <tr>\n",
        "      <th>181</th>\n",
        "      <td> 124.258430</td>\n",
        "      <td> 104189.398438</td>\n",
        "      <td> 8.909210</td>\n",
        "    </tr>\n",
        "    <tr>\n",
        "      <th>182</th>\n",
        "      <td> 124.278864</td>\n",
        "      <td> 104187.664062</td>\n",
        "      <td> 8.909169</td>\n",
        "    </tr>\n",
        "    <tr>\n",
        "      <th>183</th>\n",
        "      <td> 124.299299</td>\n",
        "      <td> 104181.289062</td>\n",
        "      <td> 8.908900</td>\n",
        "    </tr>\n",
        "    <tr>\n",
        "      <th>184</th>\n",
        "      <td> 124.319734</td>\n",
        "      <td> 104175.718750</td>\n",
        "      <td> 8.908359</td>\n",
        "    </tr>\n",
        "    <tr>\n",
        "      <th>185</th>\n",
        "      <td> 124.340168</td>\n",
        "      <td> 104179.531250</td>\n",
        "      <td> 8.908177</td>\n",
        "    </tr>\n",
        "    <tr>\n",
        "      <th>186</th>\n",
        "      <td> 124.360602</td>\n",
        "      <td> 104179.867188</td>\n",
        "      <td> 8.908194</td>\n",
        "    </tr>\n",
        "    <tr>\n",
        "      <th>187</th>\n",
        "      <td> 124.381037</td>\n",
        "      <td> 104179.445312</td>\n",
        "      <td> 8.908833</td>\n",
        "    </tr>\n",
        "    <tr>\n",
        "      <th>188</th>\n",
        "      <td> 124.401471</td>\n",
        "      <td> 104082.062500</td>\n",
        "      <td> 8.905489</td>\n",
        "    </tr>\n",
        "    <tr>\n",
        "      <th>189</th>\n",
        "      <td> 124.421906</td>\n",
        "      <td> 103619.632812</td>\n",
        "      <td> 8.888617</td>\n",
        "    </tr>\n",
        "    <tr>\n",
        "      <th>190</th>\n",
        "      <td> 124.442340</td>\n",
        "      <td> 103486.195312</td>\n",
        "      <td> 8.884075</td>\n",
        "    </tr>\n",
        "    <tr>\n",
        "      <th>191</th>\n",
        "      <td> 124.462775</td>\n",
        "      <td> 103454.085938</td>\n",
        "      <td> 8.882985</td>\n",
        "    </tr>\n",
        "    <tr>\n",
        "      <th>192</th>\n",
        "      <td> 124.483209</td>\n",
        "      <td> 103412.851562</td>\n",
        "      <td> 8.881529</td>\n",
        "    </tr>\n",
        "    <tr>\n",
        "      <th>193</th>\n",
        "      <td> 124.503644</td>\n",
        "      <td> 103405.585938</td>\n",
        "      <td> 8.881288</td>\n",
        "    </tr>\n",
        "    <tr>\n",
        "      <th>194</th>\n",
        "      <td> 124.524078</td>\n",
        "      <td> 103392.375000</td>\n",
        "      <td> 8.880788</td>\n",
        "    </tr>\n",
        "    <tr>\n",
        "      <th>195</th>\n",
        "      <td> 124.544513</td>\n",
        "      <td> 103434.234375</td>\n",
        "      <td> 8.882191</td>\n",
        "    </tr>\n",
        "    <tr>\n",
        "      <th>196</th>\n",
        "      <td> 124.564947</td>\n",
        "      <td> 103486.398438</td>\n",
        "      <td> 8.884071</td>\n",
        "    </tr>\n",
        "    <tr>\n",
        "      <th>197</th>\n",
        "      <td> 124.585382</td>\n",
        "      <td> 103571.335938</td>\n",
        "      <td> 8.887132</td>\n",
        "    </tr>\n",
        "    <tr>\n",
        "      <th>198</th>\n",
        "      <td> 124.605816</td>\n",
        "      <td> 103979.625000</td>\n",
        "      <td> 8.901263</td>\n",
        "    </tr>\n",
        "    <tr>\n",
        "      <th>199</th>\n",
        "      <td> 124.626251</td>\n",
        "      <td> 104176.421875</td>\n",
        "      <td> 8.908379</td>\n",
        "    </tr>\n",
        "    <tr>\n",
        "      <th>200</th>\n",
        "      <td> 124.646685</td>\n",
        "      <td> 104172.523438</td>\n",
        "      <td> 8.908210</td>\n",
        "    </tr>\n",
        "    <tr>\n",
        "      <th>201</th>\n",
        "      <td> 124.667120</td>\n",
        "      <td> 104163.835938</td>\n",
        "      <td> 8.908065</td>\n",
        "    </tr>\n",
        "    <tr>\n",
        "      <th>202</th>\n",
        "      <td> 124.687554</td>\n",
        "      <td> 104172.015625</td>\n",
        "      <td> 8.908603</td>\n",
        "    </tr>\n",
        "    <tr>\n",
        "      <th>203</th>\n",
        "      <td> 124.707989</td>\n",
        "      <td> 104171.578125</td>\n",
        "      <td> 8.907932</td>\n",
        "    </tr>\n",
        "    <tr>\n",
        "      <th>204</th>\n",
        "      <td> 124.728423</td>\n",
        "      <td> 104194.632812</td>\n",
        "      <td> 8.909393</td>\n",
        "    </tr>\n",
        "    <tr>\n",
        "      <th>205</th>\n",
        "      <td> 124.748858</td>\n",
        "      <td> 104180.929688</td>\n",
        "      <td> 8.908220</td>\n",
        "    </tr>\n",
        "  </tbody>\n",
        "</table>\n",
        "</div>"
       ],
       "metadata": {},
       "output_type": "pyout",
       "prompt_number": 4,
       "text": [
        "           time           flux  flux_err\n",
        "181  124.258430  104189.398438  8.909210\n",
        "182  124.278864  104187.664062  8.909169\n",
        "183  124.299299  104181.289062  8.908900\n",
        "184  124.319734  104175.718750  8.908359\n",
        "185  124.340168  104179.531250  8.908177\n",
        "186  124.360602  104179.867188  8.908194\n",
        "187  124.381037  104179.445312  8.908833\n",
        "188  124.401471  104082.062500  8.905489\n",
        "189  124.421906  103619.632812  8.888617\n",
        "190  124.442340  103486.195312  8.884075\n",
        "191  124.462775  103454.085938  8.882985\n",
        "192  124.483209  103412.851562  8.881529\n",
        "193  124.503644  103405.585938  8.881288\n",
        "194  124.524078  103392.375000  8.880788\n",
        "195  124.544513  103434.234375  8.882191\n",
        "196  124.564947  103486.398438  8.884071\n",
        "197  124.585382  103571.335938  8.887132\n",
        "198  124.605816  103979.625000  8.901263\n",
        "199  124.626251  104176.421875  8.908379\n",
        "200  124.646685  104172.523438  8.908210\n",
        "201  124.667120  104163.835938  8.908065\n",
        "202  124.687554  104172.015625  8.908603\n",
        "203  124.707989  104171.578125  8.907932\n",
        "204  124.728423  104194.632812  8.909393\n",
        "205  124.748858  104180.929688  8.908220"
       ]
      }
     ],
     "prompt_number": 4
    },
    {
     "cell_type": "code",
     "collapsed": false,
     "input": [
      "eclipseplot = eclipse.plot(x='time', y='flux', legend=False, title=\"KOI 97 Eclipse Flux\")\n",
      "# Plot with error\n",
      "#eclipseplot = eclipse.plot(x='time', y='flux', legend=False, title=\"KOI 97 Eclipse Flux\", yerr='flux_err')\n",
      "eclipseplot.set_xlabel('Time (BKJD)')\n",
      "eclipseplot.set_ylabel('Flux (electrons/s)')"
     ],
     "language": "python",
     "metadata": {},
     "outputs": [
      {
       "metadata": {},
       "output_type": "pyout",
       "prompt_number": 5,
       "text": [
        "<matplotlib.text.Text at 0x10fd0a250>"
       ]
      },
      {
       "metadata": {},
       "output_type": "display_data",
       "png": "[encoded data removed]",
       "text": [
        "<matplotlib.figure.Figure at 0x10fcffa50>"
       ]
      }
     ],
     "prompt_number": 5
    },
    {
     "cell_type": "code",
     "collapsed": false,
     "input": [
      "# Find duration and peak\n",
      "t_start = 124.401471 \n",
      "t_end = 124.605816 \n",
      "duration = t_end - t_start\n",
      "peak = t_start + duration/2.0"
     ],
     "language": "python",
     "metadata": {},
     "outputs": [],
     "prompt_number": 6
    },
    {
     "cell_type": "code",
     "collapsed": false,
     "input": [
      "def z(t):\n",
      "    return (t - peak)/duration\n",
      "\n",
      "eclipse['z'] = eclipse['time'].apply(z)/z(t_start)"
     ],
     "language": "python",
     "metadata": {},
     "outputs": [],
     "prompt_number": 7
    },
    {
     "cell_type": "code",
     "collapsed": false,
     "input": [
      "# Find p by looking at the largest magnitude of obscuration (which is ideally the ratio of areas, ~p^2)\n",
      "# Equivalent to sqrt(1 - min/max)\n",
      "p = np.sqrt((eclipse['flux'].max() - eclipse['flux'].min())/eclipse['flux'].max())"
     ],
     "language": "python",
     "metadata": {},
     "outputs": [],
     "prompt_number": 8
    },
    {
     "cell_type": "code",
     "collapsed": false,
     "input": [
      "# Analytic solution from Problem Set 1\n",
      "def attenuation(p, z):\n",
      "    z = abs(z)\n",
      "    if 1+p < z:\n",
      "        # Planet is outside of transit -- nothing is obscured.\n",
      "        return 0\n",
      "    elif abs(1-p) < z and z <= 1+p:\n",
      "        # Planet is entering stellar radius, consider the partial overlap.\n",
      "        # See Mandel & Agol, 2002.\n",
      "        k_0 = np.arccos((p**2 + z**2 - 1)/(2*p*z))\n",
      "        k_1 = np.arccos((1 - p**2 + z**2)/(2*z))\n",
      "        return ((p**2)*k_0 + k_1 - np.sqrt(abs((4*(z**2) - (1 + z**2 - p**2)**2)/4)))/np.pi\n",
      "    elif z <= 1-p:\n",
      "        # Planet is completely inside stellar radius, just consider relative areas.\n",
      "        return p**2\n",
      "    elif z <= p-1:\n",
      "        # Planet completely obscures star.\n",
      "        return 1"
     ],
     "language": "python",
     "metadata": {},
     "outputs": [],
     "prompt_number": 9
    },
    {
     "cell_type": "code",
     "collapsed": false,
     "input": [
      "eclipse['flux_analytic'] = eclipse['z'].apply(lambda z: 1 - attenuation(p, z))"
     ],
     "language": "python",
     "metadata": {},
     "outputs": [],
     "prompt_number": 10
    },
    {
     "cell_type": "code",
     "collapsed": false,
     "input": [
      "# Normalize fluxes to their respective maxima so we can compare ratios directly on a plot.\n",
      "eclipse['flux_normalized'] = eclipse['flux']/eclipse['flux'].max()\n",
      "eclipse['flux_analytic_normalized'] = eclipse['flux_analytic']/eclipse['flux_analytic'].max()"
     ],
     "language": "python",
     "metadata": {},
     "outputs": [],
     "prompt_number": 11
    },
    {
     "cell_type": "code",
     "collapsed": false,
     "input": [
      "comparisonplot = eclipse.plot(x='time', y=['flux_normalized', 'flux_analytic_normalized'], title=\"KOI 97 Eclipse Flux\")\n",
      "lines, labels = comparisonplot.get_legend_handles_labels()\n",
      "comparisonplot.legend(lines, ('Observed', 'Predicted'), loc='upper center')\n",
      "comparisonplot.set_xlabel('Time (BKJD)')\n",
      "comparisonplot.set_ylabel('Normalized Flux Ratio')"
     ],
     "language": "python",
     "metadata": {},
     "outputs": [
      {
       "metadata": {},
       "output_type": "pyout",
       "prompt_number": 12,
       "text": [
        "<matplotlib.text.Text at 0x10fdc4ad0>"
       ]
      },
      {
       "metadata": {},
       "output_type": "display_data",
       "png": "[encoded data removed]",
       "text": [
        "<matplotlib.figure.Figure at 0x10fd08550>"
       ]
      }
     ],
     "prompt_number": 12
    },
    {
     "cell_type": "markdown",
     "metadata": {},
     "source": [
      "## Problem 3"
     ]
    },
    {
     "cell_type": "code",
     "collapsed": false,
     "input": [
      "# Define habitable zone functions.\n",
      "def stellar_flux(T):\n",
      "    s_sol = 1.014\n",
      "    a = 8.177*10**-5\n",
      "    b = 1.706*10**-9\n",
      "    t_star = T - 5780.0\n",
      "    return s_sol + a*t_star + b*t_star**2\n",
      "\n",
      "def d(T):\n",
      "    luminosity = (T/5780.0)**4\n",
      "    return np.sqrt(luminosity/stellar_flux(T))\n",
      "\n",
      "# Find root when d = 0.5 AU\n",
      "def f(T):\n",
      "    return d(T) - 0.5"
     ],
     "language": "python",
     "metadata": {},
     "outputs": [],
     "prompt_number": 13
    },
    {
     "cell_type": "markdown",
     "metadata": {},
     "source": [
      "### Bisection Method (binary search)"
     ]
    },
    {
     "cell_type": "code",
     "collapsed": false,
     "input": [
      "error = 10**-6\n",
      "a = 0\n",
      "b = 10**5\n",
      "\n",
      "# Check that a solution exists in the interval [a,b] before starting\n",
      "if f(a)*f(b) < 0:\n",
      "    # Iterate while the interval is larger than the error tolerance.\n",
      "    while b-a > error:\n",
      "        # Test the midpoint of the interval as the solution.\n",
      "        x = (b + a)/2.0\n",
      "        if f(x) == 0:\n",
      "            # Reached exact solution, stop.\n",
      "            break\n",
      "        elif f(a)*f(x) < 0:\n",
      "            # Solution exists on left half, search left.\n",
      "            b = x\n",
      "        elif f(b)*f(x) < 0:\n",
      "            # Solution exists on right half, search right.\n",
      "            a = x\n",
      "    print x"
     ],
     "language": "python",
     "metadata": {},
     "outputs": [
      {
       "output_type": "stream",
       "stream": "stdout",
       "text": [
        "3947.06462612\n"
       ]
      }
     ],
     "prompt_number": 14
    }
   ],
   "metadata": {}
  }
 ]
}